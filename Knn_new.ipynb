{
 "cells": [
  {
   "cell_type": "code",
   "execution_count": 3,
   "metadata": {},
   "outputs": [],
   "source": [
    "# Importing the libraries\n",
    "import numpy as np\n",
    "import matplotlib.pyplot as plt\n",
    "import pandas as pd"
   ]
  },
  {
   "cell_type": "code",
   "execution_count": 4,
   "metadata": {},
   "outputs": [
    {
     "name": "stdout",
     "output_type": "stream",
     "text": [
      "[[16.6 'Yes' 'No' ... 'Yes' 'No' 'Yes']\n",
      " [20.34 'No' 'No' ... 'No' 'No' 'No']\n",
      " [26.58 'Yes' 'No' ... 'Yes' 'No' 'No']\n",
      " ...\n",
      " [24.24 'No' 'No' ... 'No' 'No' 'No']\n",
      " [32.81 'No' 'No' ... 'No' 'No' 'No']\n",
      " [46.56 'No' 'No' ... 'No' 'No' 'No']]\n",
      "['No' 'No' 'No' ... 'No' 'No' 'No']\n"
     ]
    }
   ],
   "source": [
    "# Importing the dataset\n",
    "dataset = pd.read_csv('Dataset\\heart_2020_cleaned.csv')\n",
    "X = dataset.iloc[:, 1:18].values\n",
    "y = dataset.iloc[:, 0].values\n",
    "\n",
    "print(X)\n",
    "print(y)"
   ]
  },
  {
   "cell_type": "code",
   "execution_count": 5,
   "metadata": {},
   "outputs": [
    {
     "name": "stdout",
     "output_type": "stream",
     "text": [
      "X [[16.6 1 0 ... 1 0 1]\n",
      " [20.34 0 0 ... 0 0 0]\n",
      " [26.58 1 0 ... 1 0 0]\n",
      " ...\n",
      " [24.24 0 0 ... 0 0 0]\n",
      " [32.81 0 0 ... 0 0 0]\n",
      " [46.56 0 0 ... 0 0 0]]\n",
      "y [0 0 0 ... 0 0 0]\n"
     ]
    }
   ],
   "source": [
    "# Transform text value to number\n",
    "from sklearn.preprocessing import LabelEncoder\n",
    "le = LabelEncoder()\n",
    "#X[:,[1,2,3,6,7,9,10,11,12,14,15,16]] = le.fit_transform(X[:,[1,2,3,6,7,9,10,11,12,14,15,16]])\n",
    "X[:,1] = le.fit_transform(X[:,1])\n",
    "X[:,2] = le.fit_transform(X[:,2])\n",
    "X[:,3] = le.fit_transform(X[:,3])\n",
    "X[:,6] = le.fit_transform(X[:,6])\n",
    "X[:,7] = le.fit_transform(X[:,7])\n",
    "X[:,8] = le.fit_transform(X[:,8])\n",
    "X[:,9] = le.fit_transform(X[:,9])\n",
    "X[:,10] = le.fit_transform(X[:,10])\n",
    "X[:,11] = le.fit_transform(X[:,11])\n",
    "X[:,12] = le.fit_transform(X[:,12])\n",
    "X[:,14] = le.fit_transform(X[:,14])\n",
    "X[:,15] = le.fit_transform(X[:,15])\n",
    "X[:,16] = le.fit_transform(X[:,16])\n",
    "print(\"X\", X)\n",
    "\n",
    "y = le.fit_transform(y)\n",
    "print(\"y\",y)"
   ]
  },
  {
   "cell_type": "code",
   "execution_count": 6,
   "metadata": {},
   "outputs": [],
   "source": [
    "# Splitting the dataset into the Training set and Test set\n",
    "from sklearn.model_selection import train_test_split\n",
    "X_train, X_test, y_train, y_test = train_test_split(X, y, test_size = 0.20, random_state = 0)"
   ]
  },
  {
   "cell_type": "code",
   "execution_count": 7,
   "metadata": {},
   "outputs": [],
   "source": [
    "# Feature Scaling\n",
    "from sklearn.preprocessing import StandardScaler\n",
    "sc = StandardScaler()\n",
    "X_train = sc.fit_transform(X_train)\n",
    "X_test = sc.transform(X_test)"
   ]
  },
  {
   "cell_type": "code",
   "execution_count": 8,
   "metadata": {},
   "outputs": [
    {
     "name": "stdout",
     "output_type": "stream",
     "text": [
      "KNeighborsClassifier()\n"
     ]
    }
   ],
   "source": [
    "# Training the K-NN model on the Training set\n",
    "from sklearn.neighbors import KNeighborsClassifier\n",
    "classifier = KNeighborsClassifier(n_neighbors = 5, metric = 'minkowski', p = 2)\n",
    "classifier.fit(X_train, y_train)\n",
    "print(classifier)"
   ]
  },
  {
   "cell_type": "code",
   "execution_count": 9,
   "metadata": {},
   "outputs": [
    {
     "name": "stdout",
     "output_type": "stream",
     "text": [
      "[0 0 0 ... 0 0 0]\n"
     ]
    }
   ],
   "source": [
    "# Predicting the Test set results\n",
    "y_pred = classifier.predict(X_test)\n",
    "print(y_pred)"
   ]
  },
  {
   "cell_type": "code",
   "execution_count": 10,
   "metadata": {},
   "outputs": [
    {
     "name": "stdout",
     "output_type": "stream",
     "text": [
      "Confusion matrix : \n",
      " [[57254  1258]\n",
      " [ 4722   725]]\n",
      "Accuarcy :  0.9065026032301944\n"
     ]
    }
   ],
   "source": [
    "# Making the Confusion Matrix\n",
    "from sklearn.metrics import confusion_matrix, accuracy_score\n",
    "cm = confusion_matrix(y_test, y_pred)\n",
    "ac = accuracy_score(y_test, y_pred)\n",
    "print(\"Confusion matrix : \\n\",cm)\n",
    "print(\"Accuarcy : \" , ac)"
   ]
  },
  {
   "cell_type": "code",
   "execution_count": 11,
   "metadata": {},
   "outputs": [
    {
     "data": {
      "image/png": "[encoded data removed]",
      "text/plain": [
       "<Figure size 432x288 with 1 Axes>"
      ]
     },
     "metadata": {
      "needs_background": "light"
     },
     "output_type": "display_data"
    }
   ],
   "source": [
    "# Draw Precision and recall graph\n",
    "from sklearn.metrics import precision_recall_curve\n",
    "\n",
    "#calculate precision and recall\n",
    "precision, recall, thresholds = precision_recall_curve(y_test, y_pred)\n",
    "\n",
    "#create precision recall curve\n",
    "fig, ax = plt.subplots()\n",
    "ax.plot(recall, precision, color='blue')\n",
    "\n",
    "#add axis labels to plot\n",
    "ax.set_title('Precision-Recall Curve')\n",
    "ax.set_ylabel('Precision')\n",
    "ax.set_xlabel('Recall')\n",
    "\n",
    "#display plot\n",
    "plt.show()"
   ]
  },
  {
   "cell_type": "code",
   "execution_count": 14,
   "metadata": {},
   "outputs": [],
   "source": [
    "# save the model to disk\n",
    "import pickle\n",
    "\n",
    "filename = 'KNN_model.sav'\n",
    "# pickle.dump(classifier, open(filename, 'wb'))\n",
    " \n",
    "# # some time later...\n"
   ]
  },
  {
   "cell_type": "code",
   "execution_count": 15,
   "metadata": {},
   "outputs": [
    {
     "data": {
      "text/plain": [
       "array([0, 0, 0, ..., 0, 0, 0])"
      ]
     },
     "execution_count": 15,
     "metadata": {},
     "output_type": "execute_result"
    }
   ],
   "source": [
    " \n",
    "# load the model from disk\n",
    "loaded_model = pickle.load(open(filename, 'rb'))\n",
    "#result = loaded_model.score(X_test, Y_test)\n",
    "\n",
    "loaded_model.predict(X_test)"
   ]
  }
 ],
 "metadata": {
  "interpreter": {
   "hash": "a42ccb73e7d9bfdf27e036f1d2b8b681e55fc0743cc5586bc2474d4a60f4b886"
  },
  "kernelspec": {
   "display_name": "Python 3.10.2 64-bit",
   "language": "python",
   "name": "python3"
  },
  "language_info": {
   "codemirror_mode": {
    "name": "ipython",
    "version": 3
   },
   "file_extension": ".py",
   "mimetype": "text/x-python",
   "name": "python",
   "nbconvert_exporter": "python",
   "pygments_lexer": "ipython3",
   "version": "3.10.2"
  },
  "orig_nbformat": 4
 },
 "nbformat": 4,
 "nbformat_minor": 2
}
